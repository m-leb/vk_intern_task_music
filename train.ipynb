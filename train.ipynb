{
 "cells": [
  {
   "cell_type": "code",
   "execution_count": 126,
   "id": "2549583f-e51d-4287-bc2f-eb1d72676afe",
   "metadata": {},
   "outputs": [],
   "source": [
    "import numpy as np\n",
    "import pandas as pd\n",
    "\n",
    "from sklearn.model_selection import train_test_split\n",
    "from sklearn.metrics import ndcg_score, roc_auc_score\n",
    "from catboost import CatBoostClassifier, Pool\n",
    "import optuna\n",
    "\n",
    "import warnings\n",
    "warnings.filterwarnings(\"ignore\")"
   ]
  },
  {
   "cell_type": "code",
   "execution_count": 18,
   "id": "700c5590-a3c0-43ce-a2e6-70ec984539ee",
   "metadata": {},
   "outputs": [
    {
     "data": {
      "text/html": [
       "<div>\n",
       "<style scoped>\n",
       "    .dataframe tbody tr th:only-of-type {\n",
       "        vertical-align: middle;\n",
       "    }\n",
       "\n",
       "    .dataframe tbody tr th {\n",
       "        vertical-align: top;\n",
       "    }\n",
       "\n",
       "    .dataframe thead th {\n",
       "        text-align: right;\n",
       "    }\n",
       "</style>\n",
       "<table border=\"1\" class=\"dataframe\">\n",
       "  <thead>\n",
       "    <tr style=\"text-align: right;\">\n",
       "      <th></th>\n",
       "      <th>msno</th>\n",
       "      <th>song_id</th>\n",
       "      <th>source_system_tab</th>\n",
       "      <th>source_screen_name</th>\n",
       "      <th>source_type</th>\n",
       "      <th>target</th>\n",
       "      <th>city</th>\n",
       "      <th>bd</th>\n",
       "      <th>gender</th>\n",
       "      <th>registered_via</th>\n",
       "      <th>...</th>\n",
       "      <th>indicated_age</th>\n",
       "      <th>name</th>\n",
       "      <th>country</th>\n",
       "      <th>year</th>\n",
       "      <th>song_length</th>\n",
       "      <th>genre_ids</th>\n",
       "      <th>artist_name</th>\n",
       "      <th>language</th>\n",
       "      <th>days_left</th>\n",
       "      <th>age_diff</th>\n",
       "    </tr>\n",
       "  </thead>\n",
       "  <tbody>\n",
       "    <tr>\n",
       "      <th>0</th>\n",
       "      <td>FGtllVqz18RPiwJj/edr2gV78zirAiY/9SmYvia+kCg=</td>\n",
       "      <td>BBzumQNXUHKdEBOB7mAJuzok+IJA1c2Ryg/yzTF6tik=</td>\n",
       "      <td>explore</td>\n",
       "      <td>Explore</td>\n",
       "      <td>online-playlist</td>\n",
       "      <td>1</td>\n",
       "      <td>1</td>\n",
       "      <td>28.824247</td>\n",
       "      <td>NONE</td>\n",
       "      <td>7</td>\n",
       "      <td>...</td>\n",
       "      <td>0</td>\n",
       "      <td>Good Grief</td>\n",
       "      <td>GB</td>\n",
       "      <td>2016.0</td>\n",
       "      <td>206471.0</td>\n",
       "      <td>359</td>\n",
       "      <td>Bastille</td>\n",
       "      <td>52.0</td>\n",
       "      <td>2103</td>\n",
       "      <td>1987.175753</td>\n",
       "    </tr>\n",
       "    <tr>\n",
       "      <th>1</th>\n",
       "      <td>Xumu+NIjS6QYVxDS4/t3SawvJ7viT9hPKXmf0RtLNx8=</td>\n",
       "      <td>bhp/MpSNoqoxOIB+/l8WPqu6jldth4DIpCm3ayXnJqM=</td>\n",
       "      <td>my library</td>\n",
       "      <td>Local playlist more</td>\n",
       "      <td>local-playlist</td>\n",
       "      <td>1</td>\n",
       "      <td>13</td>\n",
       "      <td>24.000000</td>\n",
       "      <td>female</td>\n",
       "      <td>9</td>\n",
       "      <td>...</td>\n",
       "      <td>1</td>\n",
       "      <td>Lords of Cardboard</td>\n",
       "      <td>US</td>\n",
       "      <td>1999.0</td>\n",
       "      <td>284584.0</td>\n",
       "      <td>1259</td>\n",
       "      <td>Various Artists</td>\n",
       "      <td>52.0</td>\n",
       "      <td>2301</td>\n",
       "      <td>1975.000000</td>\n",
       "    </tr>\n",
       "    <tr>\n",
       "      <th>2</th>\n",
       "      <td>Xumu+NIjS6QYVxDS4/t3SawvJ7viT9hPKXmf0RtLNx8=</td>\n",
       "      <td>JNWfrrC7zNN7BdMpsISKa4Mw+xVJYNnxXh3/Epw7QgY=</td>\n",
       "      <td>my library</td>\n",
       "      <td>Local playlist more</td>\n",
       "      <td>local-playlist</td>\n",
       "      <td>1</td>\n",
       "      <td>13</td>\n",
       "      <td>24.000000</td>\n",
       "      <td>female</td>\n",
       "      <td>9</td>\n",
       "      <td>...</td>\n",
       "      <td>1</td>\n",
       "      <td>Hip Hop Is Dead(Album Version (Edited))</td>\n",
       "      <td>US</td>\n",
       "      <td>2006.0</td>\n",
       "      <td>225396.0</td>\n",
       "      <td>1259</td>\n",
       "      <td>Nas</td>\n",
       "      <td>52.0</td>\n",
       "      <td>2301</td>\n",
       "      <td>1982.000000</td>\n",
       "    </tr>\n",
       "    <tr>\n",
       "      <th>3</th>\n",
       "      <td>Xumu+NIjS6QYVxDS4/t3SawvJ7viT9hPKXmf0RtLNx8=</td>\n",
       "      <td>2A87tzfnJTSWqD7gIZHisolhe4DMdzkbd6LzO1KHjNs=</td>\n",
       "      <td>my library</td>\n",
       "      <td>Local playlist more</td>\n",
       "      <td>local-playlist</td>\n",
       "      <td>1</td>\n",
       "      <td>13</td>\n",
       "      <td>24.000000</td>\n",
       "      <td>female</td>\n",
       "      <td>9</td>\n",
       "      <td>...</td>\n",
       "      <td>1</td>\n",
       "      <td>Disco Africa</td>\n",
       "      <td>GB</td>\n",
       "      <td>2010.0</td>\n",
       "      <td>255512.0</td>\n",
       "      <td>1019</td>\n",
       "      <td>Soundway</td>\n",
       "      <td>-1.0</td>\n",
       "      <td>2301</td>\n",
       "      <td>1986.000000</td>\n",
       "    </tr>\n",
       "    <tr>\n",
       "      <th>4</th>\n",
       "      <td>FGtllVqz18RPiwJj/edr2gV78zirAiY/9SmYvia+kCg=</td>\n",
       "      <td>3qm6XTZ6MOCU11x8FIVbAGH5l5uMkT3/ZalWG1oo2Gc=</td>\n",
       "      <td>explore</td>\n",
       "      <td>Explore</td>\n",
       "      <td>online-playlist</td>\n",
       "      <td>1</td>\n",
       "      <td>1</td>\n",
       "      <td>28.824247</td>\n",
       "      <td>NONE</td>\n",
       "      <td>7</td>\n",
       "      <td>...</td>\n",
       "      <td>0</td>\n",
       "      <td>Sleep Without You</td>\n",
       "      <td>QM</td>\n",
       "      <td>2016.0</td>\n",
       "      <td>187802.0</td>\n",
       "      <td>1011</td>\n",
       "      <td>Brett Young</td>\n",
       "      <td>52.0</td>\n",
       "      <td>2103</td>\n",
       "      <td>1987.175753</td>\n",
       "    </tr>\n",
       "  </tbody>\n",
       "</table>\n",
       "<p>5 rows × 22 columns</p>\n",
       "</div>"
      ],
      "text/plain": [
       "                                           msno  \\\n",
       "0  FGtllVqz18RPiwJj/edr2gV78zirAiY/9SmYvia+kCg=   \n",
       "1  Xumu+NIjS6QYVxDS4/t3SawvJ7viT9hPKXmf0RtLNx8=   \n",
       "2  Xumu+NIjS6QYVxDS4/t3SawvJ7viT9hPKXmf0RtLNx8=   \n",
       "3  Xumu+NIjS6QYVxDS4/t3SawvJ7viT9hPKXmf0RtLNx8=   \n",
       "4  FGtllVqz18RPiwJj/edr2gV78zirAiY/9SmYvia+kCg=   \n",
       "\n",
       "                                        song_id source_system_tab  \\\n",
       "0  BBzumQNXUHKdEBOB7mAJuzok+IJA1c2Ryg/yzTF6tik=           explore   \n",
       "1  bhp/MpSNoqoxOIB+/l8WPqu6jldth4DIpCm3ayXnJqM=        my library   \n",
       "2  JNWfrrC7zNN7BdMpsISKa4Mw+xVJYNnxXh3/Epw7QgY=        my library   \n",
       "3  2A87tzfnJTSWqD7gIZHisolhe4DMdzkbd6LzO1KHjNs=        my library   \n",
       "4  3qm6XTZ6MOCU11x8FIVbAGH5l5uMkT3/ZalWG1oo2Gc=           explore   \n",
       "\n",
       "    source_screen_name      source_type  target  city         bd  gender  \\\n",
       "0              Explore  online-playlist       1     1  28.824247    NONE   \n",
       "1  Local playlist more   local-playlist       1    13  24.000000  female   \n",
       "2  Local playlist more   local-playlist       1    13  24.000000  female   \n",
       "3  Local playlist more   local-playlist       1    13  24.000000  female   \n",
       "4              Explore  online-playlist       1     1  28.824247    NONE   \n",
       "\n",
       "   registered_via  ... indicated_age                                     name  \\\n",
       "0               7  ...             0                               Good Grief   \n",
       "1               9  ...             1                       Lords of Cardboard   \n",
       "2               9  ...             1  Hip Hop Is Dead(Album Version (Edited))   \n",
       "3               9  ...             1                             Disco Africa   \n",
       "4               7  ...             0                        Sleep Without You   \n",
       "\n",
       "   country    year song_length  genre_ids      artist_name language days_left  \\\n",
       "0       GB  2016.0    206471.0        359         Bastille     52.0      2103   \n",
       "1       US  1999.0    284584.0       1259  Various Artists     52.0      2301   \n",
       "2       US  2006.0    225396.0       1259              Nas     52.0      2301   \n",
       "3       GB  2010.0    255512.0       1019         Soundway     -1.0      2301   \n",
       "4       QM  2016.0    187802.0       1011      Brett Young     52.0      2103   \n",
       "\n",
       "      age_diff  \n",
       "0  1987.175753  \n",
       "1  1975.000000  \n",
       "2  1982.000000  \n",
       "3  1986.000000  \n",
       "4  1987.175753  \n",
       "\n",
       "[5 rows x 22 columns]"
      ]
     },
     "execution_count": 18,
     "metadata": {},
     "output_type": "execute_result"
    }
   ],
   "source": [
    "data = pd.read_csv('data/data.csv')\n",
    "data.head()"
   ]
  },
  {
   "cell_type": "code",
   "execution_count": 26,
   "id": "4b7db094-83f2-4916-bc09-5549759dad7c",
   "metadata": {},
   "outputs": [
    {
     "data": {
      "text/plain": [
       "msno                              object\n",
       "song_id                           object\n",
       "source_system_tab                 object\n",
       "source_screen_name                object\n",
       "source_type                       object\n",
       "target                             int64\n",
       "city                               int64\n",
       "bd                               float64\n",
       "gender                            object\n",
       "registered_via                     int64\n",
       "registration_init_time    datetime64[ns]\n",
       "expiration_date           datetime64[ns]\n",
       "indicated_age                      int64\n",
       "name                              object\n",
       "country                           object\n",
       "year                             float64\n",
       "song_length                      float64\n",
       "genre_ids                         object\n",
       "artist_name                       object\n",
       "language                          object\n",
       "days_left                          int64\n",
       "age_diff                         float64\n",
       "dtype: object"
      ]
     },
     "execution_count": 26,
     "metadata": {},
     "output_type": "execute_result"
    }
   ],
   "source": [
    "data['registration_init_time'] = pd.to_datetime(data['registration_init_time'])\n",
    "data['expiration_date'] = pd.to_datetime(data['expiration_date'])\n",
    "data['language'] = data['language'].astype('str')\n",
    "\n",
    "data.dtypes"
   ]
  },
  {
   "cell_type": "code",
   "execution_count": 32,
   "id": "70153284-dd4a-4468-bae0-c51fb26cf7fd",
   "metadata": {},
   "outputs": [],
   "source": [
    "seed = 42\n",
    "X = data.drop(['msno', 'song_id', 'target', 'name'], axis=1)\n",
    "y = data['target']\n",
    "\n",
    "cat = ['source_system_tab',\n",
    "       'source_screen_name',\n",
    "       'source_type',\n",
    "       'city',\n",
    "       'gender',\n",
    "       'registered_via',\n",
    "       'indicated_age',\n",
    "       'country',\n",
    "       'genre_ids',\n",
    "       'artist_name',\n",
    "       'language']\n",
    "#text = ['name']\n",
    "\n",
    "X_train, X_test, y_train, y_test = train_test_split(X, y, test_size=0.20, random_state=seed)\n",
    "\n",
    "train_pool = Pool(X_train, y_train, cat_features=cat)\n",
    "test_pool = Pool(X_test, y_test, cat_features=cat)"
   ]
  },
  {
   "cell_type": "markdown",
   "id": "495a19a8-2f5d-4604-939b-c4687152179c",
   "metadata": {},
   "source": [
    "Обучим модель со стандартными параметрами, и оценим метрики качества"
   ]
  },
  {
   "cell_type": "code",
   "execution_count": 35,
   "id": "5597a9c0-0c03-444d-a2f2-3d998cd85258",
   "metadata": {},
   "outputs": [
    {
     "name": "stdout",
     "output_type": "stream",
     "text": [
      "Learning rate set to 0.034041\n",
      "0:\tlearn: 0.6898595\ttest: 0.6898466\tbest: 0.6898466 (0)\ttotal: 1.27s\tremaining: 21m 10s\n",
      "100:\tlearn: 0.6308454\ttest: 0.6289751\tbest: 0.6289751 (100)\ttotal: 1m 49s\tremaining: 16m 14s\n",
      "200:\tlearn: 0.6242862\ttest: 0.6211490\tbest: 0.6211490 (200)\ttotal: 3m 40s\tremaining: 14m 37s\n",
      "300:\tlearn: 0.6203687\ttest: 0.6164856\tbest: 0.6164856 (300)\ttotal: 5m 28s\tremaining: 12m 42s\n",
      "400:\tlearn: 0.6177421\ttest: 0.6134695\tbest: 0.6134695 (400)\ttotal: 7m 17s\tremaining: 10m 53s\n",
      "500:\tlearn: 0.6156692\ttest: 0.6111308\tbest: 0.6111308 (500)\ttotal: 9m 5s\tremaining: 9m 3s\n",
      "600:\tlearn: 0.6138569\ttest: 0.6091208\tbest: 0.6091208 (600)\ttotal: 10m 57s\tremaining: 7m 16s\n",
      "700:\tlearn: 0.6122461\ttest: 0.6072930\tbest: 0.6072930 (700)\ttotal: 12m 47s\tremaining: 5m 27s\n",
      "800:\tlearn: 0.6109745\ttest: 0.6058921\tbest: 0.6058921 (800)\ttotal: 14m 34s\tremaining: 3m 37s\n",
      "900:\tlearn: 0.6098772\ttest: 0.6047163\tbest: 0.6047163 (900)\ttotal: 16m 23s\tremaining: 1m 48s\n",
      "999:\tlearn: 0.6088343\ttest: 0.6035645\tbest: 0.6035645 (999)\ttotal: 18m 10s\tremaining: 0us\n",
      "bestTest = 0.6035644874\n",
      "bestIteration = 999\n"
     ]
    },
    {
     "data": {
      "text/plain": [
       "<catboost.core.CatBoostClassifier at 0x1ee5507f210>"
      ]
     },
     "execution_count": 35,
     "metadata": {},
     "output_type": "execute_result"
    }
   ],
   "source": [
    "model = CatBoostClassifier(task_type='GPU', random_state=seed)\n",
    "\n",
    "model.fit(train_pool, eval_set=test_pool, verbose=100)"
   ]
  },
  {
   "cell_type": "code",
   "execution_count": 38,
   "id": "432ab078-458e-4696-9d4d-ad2e6ed614fc",
   "metadata": {},
   "outputs": [
    {
     "data": {
      "text/plain": [
       "0.7350934245137188"
      ]
     },
     "execution_count": 38,
     "metadata": {},
     "output_type": "execute_result"
    }
   ],
   "source": [
    "roc_auc_score(y_test, model.predict_proba(X_test)[:, 1])"
   ]
  },
  {
   "cell_type": "markdown",
   "id": "4a918f83-5f8a-42f2-bc35-67b06ce9e18b",
   "metadata": {},
   "source": [
    "Встает нетривиальная задача посчитать NDCG@20 для бинарного таргета.\n",
    "\n",
    "Ничего лучше эвристики поверх данных мне на ум не пришло. Хотя такой подход будет явно подгонять ранжирование под данные - это минус. В защиту этого подхода, скажу, что основывается от на здравом смысле и скорее всего не сильно противоречит реальности."
   ]
  },
  {
   "cell_type": "code",
   "execution_count": 45,
   "id": "1371f1e8-bab4-4bd7-8b91-d12826a73cda",
   "metadata": {},
   "outputs": [
    {
     "data": {
      "text/plain": [
       "msno                                          song_id                                     \n",
       "++5wYjoMgQHoRuD3GbbvmphZbBBwymzv5Q4l8sywtuU=  +/lcxtBy9FuH0ObLsK9wRf3zl9zSyvDNMpTWSGCAXxc=    0.0\n",
       "                                              +JGuj3rm4FBs8loN7rvI+JZ+EX3K9+WaxbDtmjs6mQc=    1.0\n",
       "                                              +MRnGH0Gg7jA7izLFRU1SZtGPmWHdsWTeL9wRXChnRA=    1.0\n",
       "                                              +Sm75wnBf/sjm/QMUAFx8N+Ae04kWCXGlgH50tTeM6c=    1.0\n",
       "                                              +d62ngXhdNTJRLKXO8/X9+BBoj77Hs8xVHMLmYGmB4k=    0.0\n",
       "                                                                                             ... \n",
       "zzqc2ja7z10FtSpagYVcAZXg/gPRq7wcDZuNFj+zJSU=  zK2kMG6yF7AOdKVQfMIPvKyTRynq+ANecPCBJ90IIeA=    0.0\n",
       "                                              zqDZjACUVfphX2Me6LEbMwDWLXA4bIWCbSSD+QsIypQ=    1.0\n",
       "zzzRi5ek1YCKTGns8C77xwAutE05PAPmz8T/pIIQhzE=  PgRtmmESVNtWjoZHO5a1r21vIz9sVZmcJJpFCbRa1LI=    0.0\n",
       "                                              rqNd52MxQ+okfR61j2c7u36DLODO4d2Zt/hMm3jxncM=    1.0\n",
       "                                              wBTWuHbjdjxnG1lQcbqnK4FddV24rUhuyrYLd9c/hmk=    1.0\n",
       "Name: target, Length: 7375811, dtype: float64"
      ]
     },
     "execution_count": 45,
     "metadata": {},
     "output_type": "execute_result"
    }
   ],
   "source": [
    "data.groupby(['msno', 'song_id'])['target'].mean()"
   ]
  },
  {
   "cell_type": "code",
   "execution_count": 46,
   "id": "754a2395-9883-4acd-86e4-42929379423f",
   "metadata": {},
   "outputs": [
    {
     "data": {
      "text/plain": [
       "Index(['msno', 'song_id', 'source_system_tab', 'source_screen_name',\n",
       "       'source_type', 'target', 'city', 'bd', 'gender', 'registered_via',\n",
       "       'registration_init_time', 'expiration_date', 'indicated_age', 'name',\n",
       "       'country', 'year', 'song_length', 'genre_ids', 'artist_name',\n",
       "       'language', 'days_left', 'age_diff'],\n",
       "      dtype='object')"
      ]
     },
     "execution_count": 46,
     "metadata": {},
     "output_type": "execute_result"
    }
   ],
   "source": [
    "data.columns"
   ]
  },
  {
   "cell_type": "code",
   "execution_count": 79,
   "id": "4d1b99c9-998f-4695-92d5-e6248dedaa4c",
   "metadata": {},
   "outputs": [
    {
     "data": {
      "text/plain": [
       "array(['Explore', 'Local playlist more', 'NONE', 'My library',\n",
       "       'Online playlist more', 'Album more', 'Discover Feature',\n",
       "       'Unknown', 'Discover Chart', 'Radio', 'Artist more', 'Search',\n",
       "       'Others profile more', 'Search Trends', 'Discover Genre',\n",
       "       'My library_Search', 'Search Home', 'Discover New',\n",
       "       'Self profile more', 'Concert', 'Payment'], dtype=object)"
      ]
     },
     "execution_count": 79,
     "metadata": {},
     "output_type": "execute_result"
    }
   ],
   "source": [
    "data['source_screen_name'].unique()"
   ]
  },
  {
   "cell_type": "code",
   "execution_count": 80,
   "id": "b63313d1-83bd-42ef-aac5-e376566f079b",
   "metadata": {},
   "outputs": [
    {
     "data": {
      "text/plain": [
       "array(['explore', 'my library', 'search', 'discover', 'NONE', 'radio',\n",
       "       'listen with', 'notification', 'settings'], dtype=object)"
      ]
     },
     "execution_count": 80,
     "metadata": {},
     "output_type": "execute_result"
    }
   ],
   "source": [
    "data['source_system_tab'].unique()"
   ]
  },
  {
   "cell_type": "code",
   "execution_count": 81,
   "id": "fb72057c-c075-4932-ac96-6d6d9f2f7782",
   "metadata": {},
   "outputs": [
    {
     "data": {
      "text/plain": [
       "array(['online-playlist', 'local-playlist', 'local-library',\n",
       "       'top-hits-for-artist', 'album', 'NONE', 'song-based-playlist',\n",
       "       'radio', 'song', 'listen-with', 'artist', 'topic-article-playlist',\n",
       "       'my-daily-playlist'], dtype=object)"
      ]
     },
     "execution_count": 81,
     "metadata": {},
     "output_type": "execute_result"
    }
   ],
   "source": [
    "data['source_type'].unique()"
   ]
  },
  {
   "cell_type": "markdown",
   "id": "24ebbe63-18a5-4e6e-a99a-eba2e1ec67df",
   "metadata": {},
   "source": [
    "Цель - обогатить таргет, чтобы дифференцировать различные значения. Так как у нас задача ранжирования возьмем колонки source_system_tab, source_screen_name, source_type и дадим каждому значению коэффициент likely, в зависимости от того, насколько человеку понравилась песня. Скажем, если он слушает её из своего плэйлиста - это больше, чем если он услышал её по радио или в трендах. Исходя из этой эвристики прибавим к таргету такие коэффициенты по колонкам и посчитаем требуемую метрику.\n",
    "\n",
    "оплата > концерт > плэйлист > поиск песни > поиск по исполнителю > поиск лучшего > случайность'"
   ]
  },
  {
   "cell_type": "code",
   "execution_count": 122,
   "id": "06ea762f-4ade-4fd3-a3dd-dd8bbe7cf480",
   "metadata": {},
   "outputs": [
    {
     "data": {
      "text/plain": [
       "60"
      ]
     },
     "execution_count": 122,
     "metadata": {},
     "output_type": "execute_result"
    }
   ],
   "source": [
    "translate_source_screen_name = {\n",
    "    'Payment': 10,\n",
    "    'Concert': 9,\n",
    "    'My library': 8,\n",
    "    'My library_Search': 8,\n",
    "    'Artist more': 7,\n",
    "    'Album more': 6,\n",
    "    'Discover Genre': 5,\n",
    "    'Online playlist more': 5,\n",
    "    'Discover New': 5,\n",
    "    'Search Trends': 5,\n",
    "    'Discover Chart': 5,\n",
    "    'Discover Feature': 5,\n",
    "    'Local playlist more': 5,\n",
    "    'Self profile more': 5,\n",
    "    'Others profile more': 4,\n",
    "    'Search Home': 4,\n",
    "    'Search': 4,\n",
    "    'Explore': 3,\n",
    "    'Radio': 3,\n",
    "    'Unknown': 2,\n",
    "    'NONE': 2    \n",
    "}\n",
    "\n",
    "translate_source_system_tab = {\n",
    "    'my library': 10,\n",
    "    'listen with': 6,\n",
    "    'explore': 5,\n",
    "    'search': 5,\n",
    "    'discover': 5,\n",
    "    'notification': 4,\n",
    "    'radio': 4,\n",
    "    'settings': 2,\n",
    "    'NONE': 2\n",
    "}\n",
    "\n",
    "translate_source_type = {\n",
    "    'local-playlist': 10,\n",
    "    'local-library': 10,\n",
    "    'online-playlist': 8,\n",
    "    'song': 7,\n",
    "    'album': 6,\n",
    "    'artist': 6,\n",
    "    'topic-article-playlist': 4,\n",
    "    'my-daily-playlist': 4,\n",
    "    'listen-with': 4,\n",
    "    'top-hits-for-artist': 3,\n",
    "    'song-based-playlist': 3,\n",
    "    'radio': 2,\n",
    "    'NONE': 2,\n",
    "}\n",
    "\n",
    "coef = 0.01\n",
    "\n",
    "rank = coef * X_test['source_screen_name'].map(translate_source_screen_name) +\\\n",
    "    coef * X_test['source_system_tab'].map(translate_source_system_tab) +\\\n",
    "    coef * X_test['source_type'].map(translate_source_type) +\\\n",
    "    y_test\n",
    "\n",
    "rank.nunique()"
   ]
  },
  {
   "cell_type": "code",
   "execution_count": 123,
   "id": "d150100b-23e9-4ad4-92f0-7bbfd7b00e5d",
   "metadata": {},
   "outputs": [
    {
     "data": {
      "text/plain": [
       "array([32, 13, 52, ..., 55, 32, 55], dtype=int64)"
      ]
     },
     "execution_count": 123,
     "metadata": {},
     "output_type": "execute_result"
    }
   ],
   "source": [
    "from sklearn.preprocessing import LabelEncoder\n",
    "le = LabelEncoder()\n",
    "rank = le.fit_transform(rank)\n",
    "rank"
   ]
  },
  {
   "cell_type": "code",
   "execution_count": 124,
   "id": "b6a3e510-8605-4493-a128-05eb681c075a",
   "metadata": {},
   "outputs": [
    {
     "data": {
      "text/plain": [
       "0.8083651686105533"
      ]
     },
     "execution_count": 124,
     "metadata": {},
     "output_type": "execute_result"
    }
   ],
   "source": [
    "ndcg_score(np.array([rank]), np.array([model.predict_proba(X_test)[:, 1]]), k=20)"
   ]
  },
  {
   "cell_type": "markdown",
   "id": "e98b59af-ff04-40f5-9759-88b88baddfa7",
   "metadata": {},
   "source": [
    "Метрика не совсем честная, но более подходящего варианта я не приудмал.\n",
    "\n",
    "Что касается подбора гиперпараметров, очевидно, что модель недообучилась."
   ]
  },
  {
   "cell_type": "code",
   "execution_count": 127,
   "id": "68d3ac90-390d-44e0-8815-5ff0ac1f1e28",
   "metadata": {},
   "outputs": [],
   "source": [
    "def objective(trial):\n",
    "    param = {\n",
    "        \"iterations\": trial.suggest_int(\"iterations\", 900, 1500),\n",
    "        \"depth\": trial.suggest_int(\"depth\", 2, 8),\n",
    "        \"boosting_type\": trial.suggest_categorical(\"boosting_type\", [\"Ordered\", \"Plain\"]),\n",
    "        \"bootstrap_type\": trial.suggest_categorical(\n",
    "            \"bootstrap_type\", [\"Bayesian\", \"Bernoulli\", \"MVS\"]\n",
    "        ),\n",
    "        \"learning_rate\": trial.suggest_float(\"learning_rate\", 1e-3, 0.1, log=True),\n",
    "        \"min_data_in_leaf\": trial.suggest_int(\"min_data_in_leaf\", 1, 100)\n",
    "    }\n",
    "    \n",
    "    if param[\"bootstrap_type\"] == \"Bayesian\":\n",
    "        param[\"bagging_temperature\"] = trial.suggest_float(\"bagging_temperature\", 0, 10)\n",
    "    elif param[\"bootstrap_type\"] == \"Bernoulli\":\n",
    "        param[\"subsample\"] = trial.suggest_float(\"subsample\", 0.1, 1)\n",
    "\n",
    "    model = CatBoostClassifier(**param, task_type='GPU', random_state=seed)\n",
    "    model.fit(train_pool, eval_set=test_pool, early_stopping_rounds=60, verbose=False)\n",
    "\n",
    "    ndcg20 = ndcg_score(np.array([rank]), np.array([model.predict_proba(X_test)[:, 1]]), k=20)   \n",
    "    \n",
    "    return ndcg20"
   ]
  },
  {
   "cell_type": "code",
   "execution_count": 128,
   "id": "3995ea3c-963c-4b79-a9f0-5a9a76395487",
   "metadata": {},
   "outputs": [
    {
     "name": "stderr",
     "output_type": "stream",
     "text": [
      "[I 2024-04-30 20:11:11,871] A new study created in memory with name: no-name-9da4823f-30cc-4653-ab47-45745da39853\n",
      "[I 2024-04-30 20:31:59,934] Trial 0 finished with value: 0.8607433562447357 and parameters: {'iterations': 1116, 'depth': 7, 'boosting_type': 'Plain', 'bootstrap_type': 'MVS', 'learning_rate': 0.005409177858928487, 'min_data_in_leaf': 21}. Best is trial 0 with value: 0.8607433562447357.\n",
      "[I 2024-04-30 21:05:38,957] Trial 1 finished with value: 0.778974793565656 and parameters: {'iterations': 1350, 'depth': 8, 'boosting_type': 'Plain', 'bootstrap_type': 'Bernoulli', 'learning_rate': 0.044508932145802274, 'min_data_in_leaf': 39, 'subsample': 0.20944796485052536}. Best is trial 0 with value: 0.8607433562447357.\n",
      "[I 2024-04-30 21:28:12,329] Trial 2 finished with value: 0.7987071610815604 and parameters: {'iterations': 1086, 'depth': 7, 'boosting_type': 'Ordered', 'bootstrap_type': 'MVS', 'learning_rate': 0.0747297881579277, 'min_data_in_leaf': 3}. Best is trial 0 with value: 0.8607433562447357.\n",
      "[I 2024-04-30 21:44:02,313] Trial 3 finished with value: 0.7614542549224046 and parameters: {'iterations': 1410, 'depth': 6, 'boosting_type': 'Plain', 'bootstrap_type': 'MVS', 'learning_rate': 0.056102191767601395, 'min_data_in_leaf': 18}. Best is trial 0 with value: 0.8607433562447357.\n",
      "[I 2024-04-30 21:52:28,973] Trial 4 finished with value: 0.9292740593062361 and parameters: {'iterations': 900, 'depth': 3, 'boosting_type': 'Plain', 'bootstrap_type': 'Bayesian', 'learning_rate': 0.014537014065368418, 'min_data_in_leaf': 56, 'bagging_temperature': 7.208524295714465}. Best is trial 4 with value: 0.9292740593062361.\n"
     ]
    }
   ],
   "source": [
    "study = optuna.create_study(direction=\"maximize\")\n",
    "study.optimize(objective, n_trials=50, timeout=6000)"
   ]
  },
  {
   "cell_type": "code",
   "execution_count": 129,
   "id": "18fed320-805c-4d1d-9e58-19c0bf2e548b",
   "metadata": {},
   "outputs": [
    {
     "name": "stdout",
     "output_type": "stream",
     "text": [
      "Best hyperparameters: {'iterations': 900, 'depth': 3, 'boosting_type': 'Plain', 'bootstrap_type': 'Bayesian', 'learning_rate': 0.014537014065368418, 'min_data_in_leaf': 56, 'bagging_temperature': 7.208524295714465}\n",
      "Best ndcg20: 0.9292740593062361\n"
     ]
    }
   ],
   "source": [
    "print('Best hyperparameters:', study.best_params)\n",
    "print('Best ndcg20:', study.best_value)"
   ]
  }
 ],
 "metadata": {
  "kernelspec": {
   "display_name": "Python 3 (ipykernel)",
   "language": "python",
   "name": "python3"
  },
  "language_info": {
   "codemirror_mode": {
    "name": "ipython",
    "version": 3
   },
   "file_extension": ".py",
   "mimetype": "text/x-python",
   "name": "python",
   "nbconvert_exporter": "python",
   "pygments_lexer": "ipython3",
   "version": "3.11.7"
  }
 },
 "nbformat": 4,
 "nbformat_minor": 5
}
